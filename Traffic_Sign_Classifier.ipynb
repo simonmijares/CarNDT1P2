{
 "cells": [
  {
   "cell_type": "markdown",
   "metadata": {
    "deletable": true,
    "editable": true
   },
   "source": [
    "# Self-Driving Car Engineer Nanodegree\n",
    "\n",
    "## Deep Learning\n",
    "\n",
    "## Project: Build a Traffic Sign Recognition Classifier\n",
    "\n",
    "In this notebook, a template is provided for you to implement your functionality in stages, which is required to successfully complete this project. If additional code is required that cannot be included in the notebook, be sure that the Python code is successfully imported and included in your submission if necessary. \n",
    "\n",
    "> **Note**: Once you have completed all of the code implementations, you need to finalize your work by exporting the iPython Notebook as an HTML document. Before exporting the notebook to html, all of the code cells need to have been run so that reviewers can see the final implementation and output. You can then export the notebook by using the menu above and navigating to  \\n\",\n",
    "    \"**File -> Download as -> HTML (.html)**. Include the finished document along with this notebook as your submission. \n",
    "\n",
    "In addition to implementing code, there is a writeup to complete. The writeup should be completed in a separate file, which can be either a markdown file or a pdf document. There is a [write up template](https://github.com/udacity/CarND-Traffic-Sign-Classifier-Project/blob/master/writeup_template.md) that can be used to guide the writing process. Completing the code template and writeup template will cover all of the [rubric points](https://review.udacity.com/#!/rubrics/481/view) for this project.\n",
    "\n",
    "The [rubric](https://review.udacity.com/#!/rubrics/481/view) contains \"Stand Out Suggestions\" for enhancing the project beyond the minimum requirements. The stand out suggestions are optional. If you decide to pursue the \"stand out suggestions\", you can include the code in this Ipython notebook and also discuss the results in the writeup file.\n",
    "\n",
    "\n",
    ">**Note:** Code and Markdown cells can be executed using the **Shift + Enter** keyboard shortcut. In addition, Markdown cells can be edited by typically double-clicking the cell to enter edit mode."
   ]
  },
  {
   "cell_type": "markdown",
   "metadata": {
    "deletable": true,
    "editable": true
   },
   "source": [
    "---\n",
    "## Step 0: Load The Data"
   ]
  },
  {
   "cell_type": "code",
   "execution_count": null,
   "metadata": {
    "collapsed": false,
    "deletable": true,
    "editable": true
   },
   "outputs": [],
   "source": [
    "# Load pickled data\n",
    "import pickle\n",
    "\n",
    "# TODO: Fill this in based on where you saved the training and testing data\n",
    "\n",
    "# Files from the library to train the model\n",
    "training_file = \"train.p\"\n",
    "validation_file=\"valid.p\"\n",
    "testing_file = \"test.p\"\n",
    "\n",
    "# Loading Files\n",
    "with open(training_file, mode='rb') as f:\n",
    "    train = pickle.load(f)\n",
    "with open(validation_file, mode='rb') as f:\n",
    "    valid = pickle.load(f)\n",
    "with open(testing_file, mode='rb') as f:\n",
    "    test = pickle.load(f)\n",
    "\n",
    "# Distribute features and labels to variables\n",
    "X_train, y_train = train['features'], train['labels']\n",
    "X_valid, y_valid = valid['features'], valid['labels']\n",
    "X_test, y_test = test['features'], test['labels']"
   ]
  },
  {
   "cell_type": "markdown",
   "metadata": {
    "deletable": true,
    "editable": true
   },
   "source": [
    "---\n",
    "\n",
    "## Step 1: Dataset Summary & Exploration\n",
    "\n",
    "The pickled data is a dictionary with 4 key/value pairs:\n",
    "\n",
    "- `'features'` is a 4D array containing raw pixel data of the traffic sign images, (num examples, width, height, channels).\n",
    "- `'labels'` is a 1D array containing the label/class id of the traffic sign. The file `signnames.csv` contains id -> name mappings for each id.\n",
    "- `'sizes'` is a list containing tuples, (width, height) representing the original width and height the image.\n",
    "- `'coords'` is a list containing tuples, (x1, y1, x2, y2) representing coordinates of a bounding box around the sign in the image. **THESE COORDINATES ASSUME THE ORIGINAL IMAGE. THE PICKLED DATA CONTAINS RESIZED VERSIONS (32 by 32) OF THESE IMAGES**\n",
    "\n",
    "Complete the basic data summary below. Use python, numpy and/or pandas methods to calculate the data summary rather than hard coding the results. For example, the [pandas shape method](http://pandas.pydata.org/pandas-docs/stable/generated/pandas.DataFrame.shape.html) might be useful for calculating some of the summary results. "
   ]
  },
  {
   "cell_type": "markdown",
   "metadata": {
    "deletable": true,
    "editable": true
   },
   "source": [
    "### Provide a Basic Summary of the Data Set Using Python, Numpy and/or Pandas"
   ]
  },
  {
   "cell_type": "code",
   "execution_count": null,
   "metadata": {
    "collapsed": false,
    "deletable": true,
    "editable": true
   },
   "outputs": [],
   "source": [
    "### Replace each question mark with the appropriate value. \n",
    "### Use python, pandas or numpy methods rather than hard coding the results\n",
    "\n",
    "import numpy as np\n",
    "\n",
    "# TODO: Number of training examples\n",
    "n_train = len(X_train)\n",
    "\n",
    "# TODO: Number of testing examples.\n",
    "n_test = len(X_test)\n",
    "\n",
    "# TODO: What's the shape of an traffic sign image?\n",
    "image_shape = X_valid[0].shape\n",
    "\n",
    "# TODO: How many unique classes/labels there are in the dataset.\n",
    "n_classes = np.unique(y_train)[-1]\n",
    "\n",
    "print(\"Number of training examples =\", n_train)\n",
    "print(\"Number of testing examples =\", n_test)\n",
    "print(\"Image data shape =\", image_shape)\n",
    "print(\"Number of classes =\", n_classes)"
   ]
  },
  {
   "cell_type": "markdown",
   "metadata": {
    "deletable": true,
    "editable": true
   },
   "source": [
    "### Include an exploratory visualization of the dataset"
   ]
  },
  {
   "cell_type": "markdown",
   "metadata": {
    "deletable": true,
    "editable": true
   },
   "source": [
    "Visualize the German Traffic Signs Dataset using the pickled file(s). This is open ended, suggestions include: plotting traffic sign images, plotting the count of each sign, etc.\n",
    "\n",
    "The [Matplotlib](http://matplotlib.org/) [examples](http://matplotlib.org/examples/index.html) and [gallery](http://matplotlib.org/gallery.html) pages are a great resource for doing visualizations in Python.\n",
    "\n",
    "**NOTE:** It's recommended you start with something simple first. If you wish to do more, come back to it after you've completed the rest of the sections."
   ]
  },
  {
   "cell_type": "code",
   "execution_count": null,
   "metadata": {
    "collapsed": false,
    "deletable": true,
    "editable": true
   },
   "outputs": [],
   "source": [
    "### Data exploration visualization code goes here.\n",
    "### Feel free to use as many code cells as needed.\n",
    "import matplotlib.pyplot as plt\n",
    "import random as rd\n",
    "import csv\n",
    "\n",
    "def csv_dict_list(variables_file):\n",
    "     \n",
    "    # Open variable-based csv, iterate over the rows and map values\n",
    "    # to a list of dictionaries containing key/value pairs\n",
    "    reader = csv.DictReader(open(variables_file, 'r'))\n",
    "    dict_list = []\n",
    "    for line in reader:\n",
    "        dict_list.append(line)\n",
    "    return dict_list\n",
    "\n",
    "# Load the list of signals names and selected numeric code\n",
    "file_to_read = 'signnames.csv'\n",
    "signtext = csv_dict_list(file_to_read)\n",
    "\n",
    "# Select a random image\n",
    "%matplotlib inline\n",
    "image_ind = rd.randint(0, n_train)\n",
    "fig, ax = plt.subplots()\n",
    "\n",
    "# Plot the image with its name on top\n",
    "ax.imshow(X_train[image_ind])\n",
    "ax.set_title(str(y_train[image_ind])+\": \"+signtext[y_train[image_ind]]['SignName'])\n",
    "plt.show()"
   ]
  },
  {
   "cell_type": "markdown",
   "metadata": {
    "deletable": true,
    "editable": true
   },
   "source": [
    "----\n",
    "\n",
    "## Step 2: Design and Test a Model Architecture\n",
    "\n",
    "Design and implement a deep learning model that learns to recognize traffic signs. Train and test your model on the [German Traffic Sign Dataset](http://benchmark.ini.rub.de/?section=gtsrb&subsection=dataset).\n",
    "\n",
    "The LeNet-5 implementation shown in the [classroom](https://classroom.udacity.com/nanodegrees/nd013/parts/fbf77062-5703-404e-b60c-95b78b2f3f9e/modules/6df7ae49-c61c-4bb2-a23e-6527e69209ec/lessons/601ae704-1035-4287-8b11-e2c2716217ad/concepts/d4aca031-508f-4e0b-b493-e7b706120f81) at the end of the CNN lesson is a solid starting point. You'll have to change the number of classes and possibly the preprocessing, but aside from that it's plug and play! \n",
    "\n",
    "With the LeNet-5 solution from the lecture, you should expect a validation set accuracy of about 0.89. To meet specifications, the validation set accuracy will need to be at least 0.93. It is possible to get an even higher accuracy, but 0.93 is the minimum for a successful project submission. \n",
    "\n",
    "There are various aspects to consider when thinking about this problem:\n",
    "\n",
    "- Neural network architecture (is the network over or underfitting?)\n",
    "- Play around preprocessing techniques (normalization, rgb to grayscale, etc)\n",
    "- Number of examples per label (some have more than others).\n",
    "- Generate fake data.\n",
    "\n",
    "Here is an example of a [published baseline model on this problem](http://yann.lecun.com/exdb/publis/pdf/sermanet-ijcnn-11.pdf). It's not required to be familiar with the approach used in the paper but, it's good practice to try to read papers like these."
   ]
  },
  {
   "cell_type": "markdown",
   "metadata": {
    "deletable": true,
    "editable": true
   },
   "source": [
    "### Pre-process the Data Set (normalization, grayscale, etc.)"
   ]
  },
  {
   "cell_type": "markdown",
   "metadata": {
    "deletable": true,
    "editable": true
   },
   "source": [
    "Use the code cell (or multiple code cells, if necessary) to implement the first step of your project."
   ]
  },
  {
   "cell_type": "code",
   "execution_count": null,
   "metadata": {
    "collapsed": false,
    "deletable": true,
    "editable": true
   },
   "outputs": [],
   "source": [
    "### Preprocess the data here. Preprocessing steps could include normalization, converting to grayscale, etc.\n",
    "### Feel free to use as many code cells as needed.\n",
    "import cv2\n",
    "# Shuffle the data\n",
    "from sklearn.utils import shuffle\n",
    "X_train, y_train = shuffle(X_train, y_train)\n",
    "\n",
    "def normalize_grayscale(image_data):\n",
    "    \"\"\"\n",
    "    Normalize the image data with Min-Max scaling to a range of [0.1, 0.9]\n",
    "    :param image_data: The image data to be normalized\n",
    "    :return: Normalized image data\n",
    "    \"\"\"\n",
    "    # Implement Min-Max scaling for grayscale image data\n",
    "    return [0.1 + x*(0.8)/255 for x in image_data]\n",
    "\n",
    "# Apply normalization to the data\n",
    "X_train_norm = np.array([normalize_grayscale(img) for img in X_train])\n"
   ]
  },
  {
   "cell_type": "markdown",
   "metadata": {
    "deletable": true,
    "editable": true
   },
   "source": [
    "### Model Architecture"
   ]
  },
  {
   "cell_type": "markdown",
   "metadata": {
    "collapsed": true,
    "deletable": true,
    "editable": true
   },
   "source": [
    "#### Define your architecture here.\n",
    "#### Feel free to use as many code cells as needed."
   ]
  },
  {
   "cell_type": "markdown",
   "metadata": {
    "deletable": true,
    "editable": true
   },
   "source": [
    "##### Setup Tensorflow"
   ]
  },
  {
   "cell_type": "code",
   "execution_count": null,
   "metadata": {
    "collapsed": true,
    "deletable": true,
    "editable": true
   },
   "outputs": [],
   "source": [
    "import tensorflow as tf\n",
    "\n",
    "EPOCHS = 200\n",
    "BATCH_SIZE = 512"
   ]
  },
  {
   "cell_type": "markdown",
   "metadata": {
    "deletable": true,
    "editable": true
   },
   "source": [
    "##### Define Architecture"
   ]
  },
  {
   "cell_type": "code",
   "execution_count": null,
   "metadata": {
    "collapsed": true,
    "deletable": true,
    "editable": true
   },
   "outputs": [],
   "source": [
    "from tensorflow.contrib.layers import flatten\n",
    "\n",
    "def LeNet(x):    \n",
    "    # Arguments used for tf.truncated_normal, randomly defines variables for the weights and biases for each layer\n",
    "    mu = 0\n",
    "    sigma = 0.1\n",
    "    \n",
    "    # SOLUTION: Layer 1: Convolutional. Input = 32x32x3. Output = 28x28x6.\n",
    "    conv1_W = tf.Variable(tf.truncated_normal(shape=(5, 5, 3, 6), mean = mu, stddev = sigma))\n",
    "    conv1_b = tf.Variable(tf.zeros(6))\n",
    "    conv1   = tf.nn.conv2d(x, conv1_W, strides=[1, 1, 1, 1], padding='VALID') + conv1_b\n",
    "\n",
    "    # SOLUTION: Activation.\n",
    "    conv1 = tf.nn.sigmoid(conv1)\n",
    "\n",
    "    # SOLUTION: Pooling. Input = 28x28x6. Output = 14x14x6.\n",
    "    conv1 = tf.nn.max_pool(conv1, ksize=[1, 2, 2, 1], strides=[1, 2, 2, 1], padding='VALID')\n",
    "\n",
    "    # SOLUTION: Layer 2: Convolutional. Output = 10x10x16.\n",
    "    conv2_W = tf.Variable(tf.truncated_normal(shape=(5, 5, 6, 16), mean = mu, stddev = sigma))\n",
    "    conv2_b = tf.Variable(tf.zeros(16))\n",
    "    conv2   = tf.nn.conv2d(conv1, conv2_W, strides=[1, 1, 1, 1], padding='VALID') + conv2_b\n",
    "    \n",
    "    # SOLUTION: Activation.\n",
    "    conv2 = tf.nn.sigmoid(conv2)\n",
    "\n",
    "    # SOLUTION: Pooling. Input = 10x10x16. Output = 5x5x16.\n",
    "    conv2 = tf.nn.max_pool(conv2, ksize=[1, 2, 2, 1], strides=[1, 2, 2, 1], padding='VALID')\n",
    "\n",
    "    # SOLUTION: Flatten. Input = 5x5x16. Output = 400.\n",
    "    fc0   = flatten(conv2)\n",
    "    \n",
    "    # SOLUTION: Layer 3: Fully Connected. Input = 400. Output = 120.\n",
    "    fc1_W = tf.Variable(tf.truncated_normal(shape=(400, 120), mean = mu, stddev = sigma))\n",
    "    fc1_b = tf.Variable(tf.zeros(120))\n",
    "    fc1   = tf.matmul(fc0, fc1_W) + fc1_b\n",
    "    \n",
    "    # SOLUTION: Activation.\n",
    "    fc1    = tf.nn.tanh(fc1)\n",
    "\n",
    "    # SOLUTION: Layer 4: Fully Connected. Input = 120. Output = 84.\n",
    "    fc2_W  = tf.Variable(tf.truncated_normal(shape=(120, 84), mean = mu, stddev = sigma))\n",
    "    fc2_b  = tf.Variable(tf.zeros(84))\n",
    "    fc2    = tf.matmul(fc1, fc2_W) + fc2_b\n",
    "    \n",
    "    # SOLUTION: Activation.\n",
    "    fc2    = tf.nn.sigmoid(fc2)\n",
    "\n",
    "    # SOLUTION: Layer 5: Fully Connected. Input = 84. Output = 10.\n",
    "    fc3_W  = tf.Variable(tf.truncated_normal(shape=(84, 43), mean = mu, stddev = sigma))\n",
    "    fc3_b  = tf.Variable(tf.zeros(43))\n",
    "    logits = tf.matmul(fc2, fc3_W) + fc3_b\n",
    "    \n",
    "    return logits"
   ]
  },
  {
   "cell_type": "markdown",
   "metadata": {
    "deletable": true,
    "editable": true
   },
   "source": [
    "##### Features and Labels"
   ]
  },
  {
   "cell_type": "code",
   "execution_count": null,
   "metadata": {
    "collapsed": false,
    "deletable": true,
    "editable": true
   },
   "outputs": [],
   "source": [
    "x = tf.placeholder(tf.float32, (None, 32, 32, 3))\n",
    "y = tf.placeholder(tf.int32, (None))\n",
    "one_hot_y = tf.one_hot(y, 43)"
   ]
  },
  {
   "cell_type": "markdown",
   "metadata": {
    "deletable": true,
    "editable": true
   },
   "source": [
    "##### Training Pipeline"
   ]
  },
  {
   "cell_type": "code",
   "execution_count": null,
   "metadata": {
    "collapsed": false,
    "deletable": true,
    "editable": true
   },
   "outputs": [],
   "source": [
    "rate = 0.001\n",
    "\n",
    "logits = LeNet(x)\n",
    "cross_entropy = tf.nn.softmax_cross_entropy_with_logits(logits=logits, labels=one_hot_y)\n",
    "loss_operation = tf.reduce_mean(cross_entropy)\n",
    "optimizer = tf.train.AdamOptimizer(learning_rate = rate)\n",
    "training_operation = optimizer.minimize(loss_operation)"
   ]
  },
  {
   "cell_type": "markdown",
   "metadata": {
    "deletable": true,
    "editable": true
   },
   "source": [
    "##### Model Evaluation"
   ]
  },
  {
   "cell_type": "code",
   "execution_count": null,
   "metadata": {
    "collapsed": true,
    "deletable": true,
    "editable": true
   },
   "outputs": [],
   "source": [
    "correct_prediction = tf.equal(tf.argmax(logits, 1), tf.argmax(one_hot_y, 1))\n",
    "accuracy_operation = tf.reduce_mean(tf.cast(correct_prediction, tf.float32))\n",
    "saver = tf.train.Saver()\n",
    "\n",
    "def evaluate(X_data, y_data):\n",
    "    num_examples = len(X_data)\n",
    "    total_accuracy = 0\n",
    "    sess = tf.get_default_session()\n",
    "    for offset in range(0, num_examples, BATCH_SIZE):\n",
    "        batch_x, batch_y = X_data[offset:offset+BATCH_SIZE], y_data[offset:offset+BATCH_SIZE]\n",
    "        accuracy = sess.run(accuracy_operation, feed_dict={x: batch_x, y: batch_y})\n",
    "        total_accuracy += (accuracy * len(batch_x))\n",
    "    return total_accuracy / num_examples"
   ]
  },
  {
   "cell_type": "markdown",
   "metadata": {
    "deletable": true,
    "editable": true
   },
   "source": [
    "##### Prepare Graphycs"
   ]
  },
  {
   "cell_type": "code",
   "execution_count": null,
   "metadata": {
    "collapsed": false,
    "deletable": true,
    "editable": true
   },
   "outputs": [],
   "source": [
    "from ipywidgets import FloatProgress\n",
    "from IPython.display import display\n",
    "from time import sleep\n",
    "\n",
    "ep = FloatProgress(min=0, max=EPOCHS, description = \"Epoch: 0\")\n",
    "accu = FloatProgress(min=0, max=1.0, description = \"Accuracy: 0\")\n",
    "\n",
    "#display(f)\n"
   ]
  },
  {
   "cell_type": "markdown",
   "metadata": {
    "deletable": true,
    "editable": true
   },
   "source": [
    "### Train, Validate and Test the Model"
   ]
  },
  {
   "cell_type": "markdown",
   "metadata": {
    "deletable": true,
    "editable": true
   },
   "source": [
    "A validation set can be used to assess how well the model is performing. A low accuracy on the training and validation\n",
    "sets imply underfitting. A high accuracy on the training set but low accuracy on the validation set implies overfitting."
   ]
  },
  {
   "cell_type": "code",
   "execution_count": null,
   "metadata": {
    "collapsed": false,
    "deletable": true,
    "editable": true
   },
   "outputs": [],
   "source": [
    "### Train your model here.\n",
    "### Calculate and report the accuracy on the training and validation set.\n",
    "### Once a final model architecture is selected, \n",
    "### the accuracy on the test set should be calculated and reported as well.\n",
    "### Feel free to use as many code cells as needed.\n",
    "with tf.Session() as sess:\n",
    "    sess.run(tf.global_variables_initializer())\n",
    "    num_examples = len(X_train_norm)\n",
    "    prevalacc = 0\n",
    "    print(\"Training...\")\n",
    "    print()\n",
    "    display(ep)\n",
    "    \n",
    "    display(accu)\n",
    "    \n",
    "    for i in range(EPOCHS):\n",
    "        X_train, y_train = shuffle(X_train, y_train)\n",
    "        for offset in range(0, num_examples, BATCH_SIZE):\n",
    "            end = offset + BATCH_SIZE\n",
    "            batch_x, batch_y = X_train[offset:end], y_train[offset:end]\n",
    "            sess.run(training_operation, feed_dict={x: batch_x, y: batch_y})\n",
    "            \n",
    "        validation_accuracy = evaluate(X_valid, y_valid)\n",
    "        ep.value = i\n",
    "        ep.description = \"Epoch: \" + str(i)\n",
    "        accu.value = validation_accuracy\n",
    "        accu.description = \"Acc: \" + str(int(100*validation_accuracy)) + \"%\"\n",
    "        print(\"EPOCH {}/{} ...\".format(i+1,EPOCHS))\n",
    "        print(\"Validation Accuracy = {:.3f}\".format(validation_accuracy))\n",
    "#        print()\n",
    "        \n",
    "    saver.save(sess, './lenetTS5')\n",
    "    print(\"Model saved\")"
   ]
  },
  {
   "cell_type": "markdown",
   "metadata": {},
   "source": [
    "#### Evaluate the Model"
   ]
  },
  {
   "cell_type": "code",
   "execution_count": null,
   "metadata": {
    "collapsed": false
   },
   "outputs": [],
   "source": [
    "with tf.Session() as sess:\n",
    "    saver.restore(sess,tf.train.latest_checkpoint('.'))\n",
    "\n",
    "    test_accuracy = evaluate(X_test, y_test)\n",
    "    print(\"Test Accuracy = {:.3f}\".format(test_accuracy))"
   ]
  },
  {
   "cell_type": "markdown",
   "metadata": {
    "deletable": true,
    "editable": true
   },
   "source": [
    "---\n",
    "\n",
    "## Step 3: Test a Model on New Images\n",
    "\n",
    "To give yourself more insight into how your model is working, download at least five pictures of German traffic signs from the web and use your model to predict the traffic sign type.\n",
    "\n",
    "You may find `signnames.csv` useful as it contains mappings from the class id (integer) to the actual sign name."
   ]
  },
  {
   "cell_type": "markdown",
   "metadata": {
    "deletable": true,
    "editable": true
   },
   "source": [
    "### Load and Output the Images"
   ]
  },
  {
   "cell_type": "code",
   "execution_count": null,
   "metadata": {
    "collapsed": false
   },
   "outputs": [],
   "source": [
    "### Load the images and plot them here.\n",
    "### Feel free to use as many code cells as needed.\n",
    "from scipy import misc\n",
    "from matplotlib.pyplot import imshow\n",
    "try_X=[]\n",
    "for i in range(6):\n",
    "    filename = 'examples/finals/Psign'+str(i+1)+'.jpg' #  list of files to read\n",
    "    sample = misc.imread(filename)\n",
    "    try_X.append(sample)\n",
    "    plt.figure()\n",
    "    imshow(try_X[i])"
   ]
  },
  {
   "cell_type": "markdown",
   "metadata": {},
   "source": [
    "##### Load the labels for the New Images"
   ]
  },
  {
   "cell_type": "code",
   "execution_count": null,
   "metadata": {
    "collapsed": false,
    "deletable": true,
    "editable": true
   },
   "outputs": [],
   "source": [
    "from numpy import genfromtxt\n",
    "\n",
    "file_to_read = 'trying.csv'\n",
    "\n",
    "signtrying = genfromtxt(file_to_read, delimiter=',')\n",
    "y_trying = signtrying[1:,1]\n",
    "print(y_trying)\n"
   ]
  },
  {
   "cell_type": "markdown",
   "metadata": {
    "deletable": true,
    "editable": true
   },
   "source": [
    "### Predict the Sign Type for Each Image"
   ]
  },
  {
   "cell_type": "code",
   "execution_count": null,
   "metadata": {
    "collapsed": false,
    "deletable": true,
    "editable": true
   },
   "outputs": [],
   "source": [
    "### Run the predictions here and use the model to output the prediction for each image.\n",
    "### Make sure to pre-process the images with the same pre-processing pipeline used earlier.\n",
    "### Feel free to use as many code cells as needed.\n",
    "for i in range(6):\n",
    "    fig, axs = plt.subplots(nrows=1, sharex=True, figsize=(3, 5))\n",
    "\n",
    "    with tf.Session() as sess:\n",
    "        saver.restore(sess, tf.train.latest_checkpoint('.'))\n",
    "        trying = sess.run(tf.argmax(logits, 1), feed_dict={x: [try_X[i]]})\n",
    "\n",
    "    axs.set_title(str(trying[0])+\": \"+signtext[trying[0]]['SignName'])\n",
    "    axs.imshow(try_X[i], origin='upper')"
   ]
  },
  {
   "cell_type": "markdown",
   "metadata": {
    "deletable": true,
    "editable": true
   },
   "source": [
    "### Analyze Performance"
   ]
  },
  {
   "cell_type": "code",
   "execution_count": null,
   "metadata": {
    "collapsed": false,
    "deletable": true,
    "editable": true
   },
   "outputs": [],
   "source": [
    "### Calculate the accuracy for these 5 new images. \n",
    "### For example, if the model predicted 1 out of 5 signs correctly, it's 20% accurate on these new images.\n",
    "with tf.Session() as sess:\n",
    "    saver.restore(sess,tf.train.latest_checkpoint('.'))\n",
    "\n",
    "    test_accuracy = evaluate(try_X, y_trying)\n",
    "    print(\"Test Accuracy = {:.3f}\".format(test_accuracy))"
   ]
  },
  {
   "cell_type": "markdown",
   "metadata": {
    "deletable": true,
    "editable": true
   },
   "source": [
    "### Output Top 5 Softmax Probabilities For Each Image Found on the Web"
   ]
  },
  {
   "cell_type": "markdown",
   "metadata": {
    "deletable": true,
    "editable": true
   },
   "source": [
    "For each of the new images, print out the model's softmax probabilities to show the **certainty** of the model's predictions (limit the output to the top 5 probabilities for each image). [`tf.nn.top_k`](https://www.tensorflow.org/versions/r0.12/api_docs/python/nn.html#top_k) could prove helpful here. \n",
    "\n",
    "The example below demonstrates how tf.nn.top_k can be used to find the top k predictions for each image.\n",
    "\n",
    "`tf.nn.top_k` will return the values and indices (class ids) of the top k predictions. So if k=3, for each sign, it'll return the 3 largest probabilities (out of a possible 43) and the correspoding class ids.\n",
    "\n",
    "Take this numpy array as an example. The values in the array represent predictions. The array contains softmax probabilities for five candidate images with six possible classes. `tk.nn.top_k` is used to choose the three classes with the highest probability:\n",
    "\n",
    "```\n",
    "# (5, 6) array\n",
    "a = np.array([[ 0.24879643,  0.07032244,  0.12641572,  0.34763842,  0.07893497,\n",
    "         0.12789202],\n",
    "       [ 0.28086119,  0.27569815,  0.08594638,  0.0178669 ,  0.18063401,\n",
    "         0.15899337],\n",
    "       [ 0.26076848,  0.23664738,  0.08020603,  0.07001922,  0.1134371 ,\n",
    "         0.23892179],\n",
    "       [ 0.11943333,  0.29198961,  0.02605103,  0.26234032,  0.1351348 ,\n",
    "         0.16505091],\n",
    "       [ 0.09561176,  0.34396535,  0.0643941 ,  0.16240774,  0.24206137,\n",
    "         0.09155967]])\n",
    "```\n",
    "\n",
    "Running it through `sess.run(tf.nn.top_k(tf.constant(a), k=3))` produces:\n",
    "\n",
    "```\n",
    "TopKV2(values=array([[ 0.34763842,  0.24879643,  0.12789202],\n",
    "       [ 0.28086119,  0.27569815,  0.18063401],\n",
    "       [ 0.26076848,  0.23892179,  0.23664738],\n",
    "       [ 0.29198961,  0.26234032,  0.16505091],\n",
    "       [ 0.34396535,  0.24206137,  0.16240774]]), indices=array([[3, 0, 5],\n",
    "       [0, 1, 4],\n",
    "       [0, 5, 1],\n",
    "       [1, 3, 5],\n",
    "       [1, 4, 3]], dtype=int32))\n",
    "```\n",
    "\n",
    "Looking just at the first row we get `[ 0.34763842,  0.24879643,  0.12789202]`, you can confirm these are the 3 largest probabilities in `a`. You'll also notice `[3, 0, 5]` are the corresponding indices."
   ]
  },
  {
   "cell_type": "code",
   "execution_count": null,
   "metadata": {
    "collapsed": false,
    "deletable": true,
    "editable": true
   },
   "outputs": [],
   "source": [
    "### Print out the top five softmax probabilities for the predictions on the German traffic sign images found on the web. \n",
    "### Feel free to use as many code cells as needed.\n",
    "\n",
    "for i in range(6):\n",
    "    fig, axs = plt.subplots(nrows=1, sharex=True, figsize=(3, 5))\n",
    "    with tf.Session() as sess:\n",
    "        saver.restore(sess, tf.train.latest_checkpoint('.'))\n",
    "        votes, topoptions = sess.run(tf.nn.top_k(tf.nn.softmax(logits, dim=-1), k = 5), feed_dict={x: [try_X[i]]})\n",
    "    titulo = \"Sample \"+str(i+1)+\":\\n\"\n",
    "    for j in range(5):\n",
    "        titulo += str(topoptions[0][j])+\": \"+signtext[topoptions[0][j]]['SignName']+\"(\"+str(votes[0][j])+\")\\n\"\n",
    "    axs.set_title(titulo)\n",
    "    axs.imshow(try_X[i], origin='upper')"
   ]
  },
  {
   "cell_type": "markdown",
   "metadata": {
    "deletable": true,
    "editable": true
   },
   "source": [
    "---\n",
    "\n",
    "## Step 4: Visualize the Neural Network's State with Test Images\n",
    "\n",
    " This Section is not required to complete but acts as an additional excersise for understaning the output of a neural network's weights. While neural networks can be a great learning device they are often referred to as a black box. We can understand what the weights of a neural network look like better by plotting their feature maps. After successfully training your neural network you can see what it's feature maps look like by plotting the output of the network's weight layers in response to a test stimuli image. From these plotted feature maps, it's possible to see what characteristics of an image the network finds interesting. For a sign, maybe the inner network feature maps react with high activation to the sign's boundary outline or to the contrast in the sign's painted symbol.\n",
    "\n",
    " Provided for you below is the function code that allows you to get the visualization output of any tensorflow weight layer you want. The inputs to the function should be a stimuli image, one used during training or a new one you provided, and then the tensorflow variable name that represents the layer's state during the training process, for instance if you wanted to see what the [LeNet lab's](https://classroom.udacity.com/nanodegrees/nd013/parts/fbf77062-5703-404e-b60c-95b78b2f3f9e/modules/6df7ae49-c61c-4bb2-a23e-6527e69209ec/lessons/601ae704-1035-4287-8b11-e2c2716217ad/concepts/d4aca031-508f-4e0b-b493-e7b706120f81) feature maps looked like for it's second convolutional layer you could enter conv2 as the tf_activation variable.\n",
    "\n",
    "For an example of what feature map outputs look like, check out NVIDIA's results in their paper [End-to-End Deep Learning for Self-Driving Cars](https://devblogs.nvidia.com/parallelforall/deep-learning-self-driving-cars/) in the section Visualization of internal CNN State. NVIDIA was able to show that their network's inner weights had high activations to road boundary lines by comparing feature maps from an image with a clear path to one without. Try experimenting with a similar test to show that your trained network's weights are looking for interesting features, whether it's looking at differences in feature maps from images with or without a sign, or even what feature maps look like in a trained network vs a completely untrained one on the same sign image.\n",
    "\n",
    "<figure>\n",
    " <img src=\"visualize_cnn.png\" width=\"380\" alt=\"Combined Image\" />\n",
    " <figcaption>\n",
    " <p></p> \n",
    " <p style=\"text-align: center;\"> Your output should look something like this (above)</p> \n",
    " </figcaption>\n",
    "</figure>\n",
    " <p></p> \n"
   ]
  },
  {
   "cell_type": "code",
   "execution_count": null,
   "metadata": {
    "collapsed": false,
    "deletable": true,
    "editable": true
   },
   "outputs": [],
   "source": [
    "### Visualize your network's feature maps here.\n",
    "### Feel free to use as many code cells as needed.\n",
    "\n",
    "# image_input: the test image being fed into the network to produce the feature maps\n",
    "# tf_activation: should be a tf variable name used during your training procedure that represents the calculated state of a specific weight layer\n",
    "# activation_min/max: can be used to view the activation contrast in more detail, by default matplot sets min and max to the actual min and max values of the output\n",
    "# plt_num: used to plot out multiple different weight feature map sets on the same block, just extend the plt number for each new feature map entry\n",
    "\n",
    "def outputFeatureMap(image_input, tf_activation, activation_min=-1, activation_max=-1 ,plt_num=1):\n",
    "    # Here make sure to preprocess your image_input in a way your network expects\n",
    "    # with size, normalization, ect if needed\n",
    "    # image_input =\n",
    "    # Note: x should be the same name as your network's tensorflow data placeholder variable\n",
    "    # If you get an error tf_activation is not defined it maybe having trouble accessing the variable from inside a function\n",
    "    activation = tf_activation.eval(session=sess,feed_dict={x : image_input})\n",
    "    print(activation.shape)\n",
    "    featuremaps = activation.shape[3]\n",
    "    plt.figure(plt_num, figsize=(15,15))\n",
    "    for featuremap in range(featuremaps):\n",
    "        plt.subplot(6,8, featuremap+1) # sets the number of feature maps to show on each row and column\n",
    "        plt.title('FeatureMap ' + str(featuremap)) # displays the feature map number\n",
    "        if activation_min != -1 & activation_max != -1:\n",
    "            plt.imshow(activation[0,:,:, featuremap], interpolation=\"nearest\", vmin =activation_min, vmax=activation_max, cmap=\"gray\")\n",
    "        elif activation_max != -1:\n",
    "            plt.imshow(activation[0,:,:, featuremap], interpolation=\"nearest\", vmax=activation_max, cmap=\"gray\")\n",
    "        elif activation_min !=-1:\n",
    "            plt.imshow(activation[0,:,:, featuremap], interpolation=\"nearest\", vmin=activation_min, cmap=\"gray\")\n",
    "        else:\n",
    "            plt.imshow(activation[0,:,:, featuremap], interpolation=\"nearest\", cmap=\"gray\")\n",
    "with tf.Session() as sess:\n",
    "    saver.restore(sess, tf.train.latest_checkpoint('.'))\n",
    "    outputFeatureMap([try_X[0]],conv2)"
   ]
  },
  {
   "cell_type": "markdown",
   "metadata": {
    "deletable": true,
    "editable": true
   },
   "source": [
    "### Question 9\n",
    "\n",
    "Discuss how you used the visual output of your trained network's feature maps to show that it had learned to look for interesting characteristics in traffic sign images\n"
   ]
  },
  {
   "cell_type": "markdown",
   "metadata": {
    "deletable": true,
    "editable": true
   },
   "source": [
    "**Answer:**"
   ]
  },
  {
   "cell_type": "markdown",
   "metadata": {
    "deletable": true,
    "editable": true
   },
   "source": [
    "> **Note**: Once you have completed all of the code implementations and successfully answered each question above, you may finalize your work by exporting the iPython Notebook as an HTML document. You can do this by using the menu above and navigating to  \\n\",\n",
    "    \"**File -> Download as -> HTML (.html)**. Include the finished document along with this notebook as your submission."
   ]
  },
  {
   "cell_type": "markdown",
   "metadata": {
    "deletable": true,
    "editable": true
   },
   "source": [
    "### Project Writeup\n",
    "\n",
    "Once you have completed the code implementation, document your results in a project writeup using this [template](https://github.com/udacity/CarND-Traffic-Sign-Classifier-Project/blob/master/writeup_template.md) as a guide. The writeup can be in a markdown or pdf file. "
   ]
  }
 ],
 "metadata": {
  "anaconda-cloud": {},
  "kernelspec": {
   "display_name": "Python 3",
   "language": "python",
   "name": "python3"
  },
  "language_info": {
   "codemirror_mode": {
    "name": "ipython",
    "version": 3
   },
   "file_extension": ".py",
   "mimetype": "text/x-python",
   "name": "python",
   "nbconvert_exporter": "python",
   "pygments_lexer": "ipython3",
   "version": "3.5.2"
  },
  "widgets": {
   "state": {
    "00985642bd1b4d17944b04f02c67255a": {
     "views": []
    },
    "011083f447e54cd9bd6c6d31bf031a4e": {
     "views": []
    },
    "02b415183bc440f99b384ce99c67cb63": {
     "views": []
    },
    "050bca4faa99485eae8989fa894a1d52": {
     "views": []
    },
    "067f6901c05143fb81d2d6cdf2d0900b": {
     "views": []
    },
    "06b0ff37febe4d29a208ab583e1bfd4b": {
     "views": []
    },
    "0788bc27c00047bc88e8b205dee78b28": {
     "views": []
    },
    "07a2998f567b4a9eaa7e6089c6a38f97": {
     "views": []
    },
    "0910149e25ba4d90bc84e5293c527998": {
     "views": []
    },
    "0d0f30b70aa946b5a1f30d6fe13e8dbb": {
     "views": []
    },
    "0db1e21b2acf48529a11dc8b8d4da472": {
     "views": []
    },
    "0f1a18c33ba8459383e87650855677f2": {
     "views": []
    },
    "0f54c09f25114fb8bc27a87a21741e98": {
     "views": []
    },
    "10ee523e658748dbbec59fe2f4f99dfb": {
     "views": []
    },
    "11f5cf33a28b4596a4a2e507dd84b0c0": {
     "views": []
    },
    "1211f3bfc2a34395996a62837b48f67c": {
     "views": []
    },
    "126b35dc42da4dc6afdee054fdc3a368": {
     "views": []
    },
    "141828f814e04c9eb42f2ea6466e6992": {
     "views": []
    },
    "146755081ce445818bee458804bf77e5": {
     "views": []
    },
    "17d55134bbf4487d8990412c27337c50": {
     "views": []
    },
    "1938711833704704a7ff5c84414cdc12": {
     "views": []
    },
    "1af16e001bf14eb98cf6efa716b3a1b2": {
     "views": []
    },
    "1c3f011274ab48e0a03ff7ffb2a8c662": {
     "views": []
    },
    "1c771639be6045509ffa3662c0d19c5b": {
     "views": []
    },
    "1d559a9eb50541c3aef302b96485a38f": {
     "views": []
    },
    "1e58a2ecb60642abbba8c1ee0170a098": {
     "views": []
    },
    "1e76446925cf476ab7c0da3533138c0f": {
     "views": []
    },
    "1e99495a30034341aea12d6efc047cb3": {
     "views": []
    },
    "1f16596f45cd40439f4b4c44b52cdba8": {
     "views": []
    },
    "20b6b6813c2444f7a6a32100730ca5ba": {
     "views": []
    },
    "232588c452ee41f48babbd78dd75c8a9": {
     "views": []
    },
    "23b839d2c2964d27a8fa41fd281344ac": {
     "views": []
    },
    "243522b166774da58471e987692610a2": {
     "views": []
    },
    "249190d9a73446988e217b23b6ee1422": {
     "views": []
    },
    "251a9a70a9554ff78723875392708bf6": {
     "views": []
    },
    "265626417ee84cde9b9a17818612667f": {
     "views": []
    },
    "27a454e043044e68ac7d4fcfbbbbb0da": {
     "views": []
    },
    "27c2d101f70a4eb7b29cb54d1ca4cd43": {
     "views": []
    },
    "28b09c81aa33434fb7a611b5af2f2d28": {
     "views": []
    },
    "29c7c2344ef24af7b3cb4032f9a47511": {
     "views": []
    },
    "2d07bc38b54840d5b51fd4816231d139": {
     "views": []
    },
    "2d75d79627d146028cc180cfcd2e1990": {
     "views": []
    },
    "2e00ba59c8204c3490d553e3a47927d6": {
     "views": []
    },
    "2fbcc86e636041c0aa74f478096e1840": {
     "views": []
    },
    "2feecc25dd844e35a5c139d59c86fe3d": {
     "views": []
    },
    "3444f171d650486896cab15779a14213": {
     "views": []
    },
    "348118ab113c4732b0f6f85b0f700821": {
     "views": []
    },
    "353619d38caf4af5b1b7e7e42aa2dcb4": {
     "views": []
    },
    "379755a95c6d4e488cd70090efe7616f": {
     "views": []
    },
    "3917d4fe36584ee5933a4a847addde26": {
     "views": []
    },
    "3c4f6a81b44d46cebcdb19747b35e444": {
     "views": []
    },
    "3d1ec549e7604394bef5cfd054a76642": {
     "views": []
    },
    "3d491f0c0f9b474f9d332c6fed36cac7": {
     "views": []
    },
    "3da93e25c7004a0b83aa1296629930f6": {
     "views": []
    },
    "3e0d3f9b3f454a9987eac83d92063d82": {
     "views": [
      {
       "cell_index": 29
      }
     ]
    },
    "3f44e9d82c644aa990ac49c87bb205b9": {
     "views": [
      {
       "cell_index": 29
      },
      {
       "cell_index": 29
      }
     ]
    },
    "4821cfe56cdf450b801b72e83c053540": {
     "views": []
    },
    "49c53c53fd6d409bbe251eeb504ec8b0": {
     "views": []
    },
    "4a7dee02e7a84f668ecad8acafd524d9": {
     "views": []
    },
    "4dfeb2d6585640dfaa310b24c88ae762": {
     "views": []
    },
    "4ef17653dd124e029fa556639f7c3372": {
     "views": []
    },
    "4f9fe40af2d64edda3618d2984335cdf": {
     "views": []
    },
    "5166db2f3bd74c32a782cc01cc00f2d9": {
     "views": []
    },
    "521f8f5978c24ff4b32e79e385ee4c29": {
     "views": []
    },
    "52b64ff0dae045e9afaed29b0155620f": {
     "views": [
      {
       "cell_index": 29
      }
     ]
    },
    "52c1d1eef7e840a0a396676b38ec645e": {
     "views": []
    },
    "5be0289ad91444868408a72902d20559": {
     "views": []
    },
    "5c337a957f6048adb3659f120d70a2e2": {
     "views": []
    },
    "5ef1b958ef5645db8a63e6900cac01b0": {
     "views": []
    },
    "5f3054ea6a904b3998ad520bd80488ee": {
     "views": []
    },
    "60959d8dc0ee44d79a60328a8bd9f4e3": {
     "views": []
    },
    "60c4f620b8ee4855b45009aa4b312f96": {
     "views": [
      {
       "cell_index": 29
      },
      {
       "cell_index": 29
      }
     ]
    },
    "623188877001432cb80168b25ba15b9e": {
     "views": []
    },
    "63b977fed45f43389f23daac5cb77327": {
     "views": []
    },
    "6878690fc7764a38a8a3df8dd3327935": {
     "views": []
    },
    "6d6f99720ca9424c80e67d24d7b619ea": {
     "views": []
    },
    "6d6fb1c13bd440cd8728b0b6b973e3cf": {
     "views": []
    },
    "6ee1bc4232b048e8ab59b3d1f978c890": {
     "views": []
    },
    "6fee63f423aa47238f8d43b96735ddd9": {
     "views": []
    },
    "70f895464fc649fa8451716501a12293": {
     "views": []
    },
    "73f88a6d2ff54673b8b8629f28db8bd8": {
     "views": []
    },
    "74329b2635a147d4921c587da55355ee": {
     "views": []
    },
    "771b6763278948c5a60f7dcd92c6252e": {
     "views": []
    },
    "77847e1002d84b7ba8ec5ebd179735c1": {
     "views": []
    },
    "788e10a6fba54f2c86bcc4000a2a5bbf": {
     "views": []
    },
    "78c62486cc3d484f900e255d2a7c2c9c": {
     "views": []
    },
    "79b5428ff4bc4f7ea4aed717011dcf58": {
     "views": []
    },
    "7ba258f36b4840d2b7f001bec88a5579": {
     "views": []
    },
    "7c6e763d2d194940800d76d07228d552": {
     "views": []
    },
    "7d7960a8881540558ffe1c08d1dc3a9e": {
     "views": []
    },
    "7e31d96963e042b9b6b616ad42733740": {
     "views": []
    },
    "7e53e33c1e02443d9ceefbe977bf66ac": {
     "views": []
    },
    "7f4a09670bd94eeba973e13aaa5eaf24": {
     "views": []
    },
    "7fb009c1117b48c8b6637e64f20a353f": {
     "views": []
    },
    "806a7ce468a74b208f0d910324e30c5d": {
     "views": []
    },
    "8276c19306d64aea9f656512b13c74a6": {
     "views": []
    },
    "839d929939d245db9e91b80a48c974e6": {
     "views": []
    },
    "8498ed90b3354f9e9717ff801ca05525": {
     "views": [
      {
       "cell_index": 29
      }
     ]
    },
    "86474c5e3ca040dc934d5eeaf4bad4e3": {
     "views": []
    },
    "864d8995bc7142dd910d306682922f9e": {
     "views": []
    },
    "88e779e8bd6549c59725ea2c10e20464": {
     "views": []
    },
    "899e9f7ea2c745289ada4152145286e9": {
     "views": [
      {
       "cell_index": 29
      }
     ]
    },
    "8ad139e84059425f9df89a5510996568": {
     "views": []
    },
    "8bcbbd40bb504b269bf819c3676982b1": {
     "views": [
      {
       "cell_index": 29
      }
     ]
    },
    "8e49ebc50a454da28d56aa6b380fd604": {
     "views": []
    },
    "949d10db01e94a3ca9d1e90370381e92": {
     "views": []
    },
    "96292d2680be4fc8a795507b0d0e9009": {
     "views": []
    },
    "9630c230171f4145b22833379ee30756": {
     "views": []
    },
    "96aa88ed23894051a7c4dae0e6035dca": {
     "views": []
    },
    "985e7a276c5b4ebd95c6d860f53e457d": {
     "views": []
    },
    "9995480ef51d4c59a0b848a715ca8848": {
     "views": []
    },
    "99ab0e526c9f4ca9b7e51ef13e3925df": {
     "views": []
    },
    "9a94e4d1f9634fe1bd3117eea6053c5b": {
     "views": []
    },
    "9bd37938d98647048822c9d8c7ee65d4": {
     "views": []
    },
    "9bd6b955ee71406e89fb7a90839b0d12": {
     "views": [
      {
       "cell_index": 29
      },
      {
       "cell_index": 29
      }
     ]
    },
    "9cb42e17efeb439698492e4e295486ba": {
     "views": [
      {
       "cell_index": 29
      }
     ]
    },
    "9fa1e98dab104fd7a43decbc5b406855": {
     "views": []
    },
    "a03d7a2f80ce4d54ad9cba56b5eeccc0": {
     "views": []
    },
    "a24e91da396a4efc8f3d094022aa96ce": {
     "views": []
    },
    "a2e097fafa3a4cd59a80dd89092dd892": {
     "views": []
    },
    "a3e47ec493b243ac81ef55abd29eb3fe": {
     "views": []
    },
    "a79bb4d260af4b88b26ca0470f277251": {
     "views": []
    },
    "a818d1a4a3904c1bac337bb7fecc9308": {
     "views": []
    },
    "a84eae4c495a4db190123e220bcbd6cd": {
     "views": []
    },
    "a8ad0f1553eb4f2db97ccdbb27935ede": {
     "views": []
    },
    "a9bd7d2beec347f0bc7b5b7aa44dc4a9": {
     "views": []
    },
    "a9df34f3d81f49a391baace80a664f75": {
     "views": []
    },
    "aaef845c6c51484d89254b18de6c311f": {
     "views": []
    },
    "ac1d29061fb1453d997df6bde34bd7cf": {
     "views": []
    },
    "aca281c93543483a92b6edbeb9ae1bc1": {
     "views": []
    },
    "afeca55cebc041c7900b6e325f838c64": {
     "views": []
    },
    "b02f6f5da078458baae11197693fed07": {
     "views": []
    },
    "b061b1cbdaaf44d3a3a6c4c22348756a": {
     "views": []
    },
    "b0b8ef18c3174909a2f88d74f107c4fd": {
     "views": []
    },
    "b1e5d8186b5e4b389e2af511d0544ea5": {
     "views": []
    },
    "b7d469d383d34fceaac4f3da77639d36": {
     "views": []
    },
    "b869f2192c6c4af89ffee582946e35da": {
     "views": []
    },
    "b89ad21415b34636a8553cd42d7519ee": {
     "views": []
    },
    "ba69017b4759450598ce46c9d51febeb": {
     "views": [
      {
       "cell_index": 29
      }
     ]
    },
    "bbb5b19f5d89447e8c07799a2d8d6143": {
     "views": []
    },
    "bc39c3236e1b4510be8f7e138599b8bf": {
     "views": []
    },
    "bd0b30ca2376416fbdc36c5ab2c46a2c": {
     "views": []
    },
    "bda7a3d258fe458a89b743018a846691": {
     "views": []
    },
    "bf7e3b3116d7413cb1b896df42eadbe1": {
     "views": []
    },
    "bff3129d32ac43409adc930855761e97": {
     "views": []
    },
    "c0845d1c4d5e459aafacc53ccffa049c": {
     "views": []
    },
    "c28018f7fde1405e84e8002589294931": {
     "views": [
      {
       "cell_index": 29
      }
     ]
    },
    "c283c74a945746c9b85ecfa7e7e9b15f": {
     "views": []
    },
    "c6b932bc755d4a6db754f1606ffde608": {
     "views": []
    },
    "cae26d991dca440f82007e2188ec0b82": {
     "views": []
    },
    "cbd2b985e70b4ae3b0ef3c21567d9a1c": {
     "views": []
    },
    "cc8c8b4b776a48a4951761c0c16f109d": {
     "views": []
    },
    "cd09af77c1f14d5985883788c4625a14": {
     "views": []
    },
    "cd361c1f634a4fddbc785d548540e75e": {
     "views": []
    },
    "cd7376b7199e4de2968959abd0acb541": {
     "views": []
    },
    "ce88ef44d2ac46618b1280e6f4cdf304": {
     "views": []
    },
    "cfb972df3a3a447f90acfc6f9fb4e328": {
     "views": []
    },
    "cfeade12189e4784a32421b23b1c5538": {
     "views": []
    },
    "d12d7101848544a4b26cc34267e10e59": {
     "views": []
    },
    "d26fd0f76bcf4fbca50132a3d30b9421": {
     "views": []
    },
    "d410ffa38bed45f7ac2a1c88a8cca6ea": {
     "views": []
    },
    "d45d669e186f43e6979dfcf270e7698e": {
     "views": [
      {
       "cell_index": 29
      }
     ]
    },
    "d56c5129757947e4813b0a80ec91007d": {
     "views": []
    },
    "d5cdda9de1134aa6bfffdf52222a4900": {
     "views": []
    },
    "d79dbec5b4d74445a952ee215f432703": {
     "views": []
    },
    "d8ca16b63c654317acd5da25df6d9836": {
     "views": []
    },
    "d94c1eb1c1c3414f8f9fd2dec5996ffe": {
     "views": []
    },
    "de37515a85da49698a461f9fdc0d1a17": {
     "views": []
    },
    "dee1bfc885b443b2841739a7b099367d": {
     "views": []
    },
    "def39157ba314a9caf13cff73ff531fe": {
     "views": [
      {
       "cell_index": 29
      }
     ]
    },
    "def5cd7d5c5a43eab4b7632c84e50e9a": {
     "views": []
    },
    "e17497083cec453a9ccab7b87c769d6e": {
     "views": []
    },
    "e2713972855e4b13a214efd7edc41710": {
     "views": []
    },
    "e3bb8c127bb4416d9ba9fdeec7d5bb7f": {
     "views": []
    },
    "e3c85687e27a403f9ea37fbd21d90315": {
     "views": []
    },
    "e44dabeddd6449fa9058da712867d30e": {
     "views": [
      {
       "cell_index": 29
      }
     ]
    },
    "e4d1569c959c47c2a76ac45e0bf1c542": {
     "views": []
    },
    "e6ed9f0f1f154d57aa88681e3956a428": {
     "views": []
    },
    "e8ec5444e1a146888360931462015526": {
     "views": []
    },
    "ead2136e403e423dbc5ac9d5e9f217f6": {
     "views": []
    },
    "ecbf671325e94ed78c0d586ad3d96c7c": {
     "views": []
    },
    "ed97b455cb7b4e92bef885193d242a72": {
     "views": []
    },
    "edb31f0b06b041068f81ead17928fc78": {
     "views": []
    },
    "eee5ca8b672745318cf62f407940fa92": {
     "views": []
    },
    "f9890563e2b948f9bff282b5cbfd3ce6": {
     "views": []
    },
    "fcb7ded510404879a31696ae64a481d4": {
     "views": []
    }
   },
   "version": "1.1.2"
  }
 },
 "nbformat": 4,
 "nbformat_minor": 1
}
